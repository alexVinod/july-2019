{
 "cells": [
  {
   "cell_type": "markdown",
   "metadata": {},
   "source": [
    "### Problem Set:\n",
    "    - Function to print all numbers divisible by 6 and not a factor of 100 in a given range(lb, ub) inclusive\n",
    "    - Function to find the average of cubes of all even numbers in a given range(lb, ub) inclusive\n",
    "    - Function to generate the list of factors for a given number\n",
    "    - Function to calculate the factorial of a given number\n",
    "    - Function to check if a given number is Prime -------\n",
    "    - Function to calculate the average first N Prime numbers ------\n",
    "    - Function to generate all Perfect numbers in a given range -------\n"
   ]
  },
  {
   "cell_type": "code",
   "execution_count": 81,
   "metadata": {},
   "outputs": [
    {
     "name": "stdout",
     "output_type": "stream",
     "text": [
      "12 18 30 36 42 48 60 66 72 78 84 90 96 102 108 114 120 126 132 138 144 150 156 162 168 174 180 186 192 198 "
     ]
    }
   ],
   "source": [
    "# Function to print all numbers divisible by 6 and not a factor of 100 in a given range(lb, ub) inclusive\n",
    "# if(Number%i == 0)\n",
    "def allNumbersDivisibleBy6NotFactor100(lb,ub):\n",
    "    count=1\n",
    "    for i in range(lb,ub+1):\n",
    "        if i%6 ==0 and 100%count !=0 :\n",
    "            print(i, end=\" \")\n",
    "        count=count+1\n",
    "allNumbersDivisibleBy6NotFactor100(5,200)"
   ]
  },
  {
   "cell_type": "code",
   "execution_count": 15,
   "metadata": {},
   "outputs": [
    {
     "name": "stdout",
     "output_type": "stream",
     "text": [
      "The average of cubes of all even numbers in a given range(lb, ub) inclusive 34840 : '3167.2727272727275'\n"
     ]
    }
   ],
   "source": [
    "# Function to find the average of cubes of all even numbers in a given range(lb, ub) inclusive\n",
    "def avgCubesEvenNumber(lb,ub):\n",
    "    sums=0\n",
    "    count=1\n",
    "    for i in range(lb,ub+1):\n",
    "        if i%2 ==0:            \n",
    "            sums=sums+i**3\n",
    "            #print(sums,count)\n",
    "            count=count+1\n",
    "    print(\"The average of cubes of all even numbers in a given range(lb, ub) inclusive {} : '{}'\".format(sums,sums/count))\n",
    "\n",
    "avgCubesEvenNumber(3,23)"
   ]
  },
  {
   "cell_type": "code",
   "execution_count": 77,
   "metadata": {},
   "outputs": [
    {
     "name": "stdout",
     "output_type": "stream",
     "text": [
      "1 2 3 4 5 6 10 12 15 20 30 60 "
     ]
    }
   ],
   "source": [
    "# Function to generate the list of factors for a given number\n",
    "#  if(Number%i == 0)\n",
    "def genListFactorsNumber(n):\n",
    "    count=1\n",
    "    for i in range(1,n+1):\n",
    "        if n % count ==0 :\n",
    "            print(i,end=\" \")\n",
    "        count=count+1\n",
    "genListFactorsNumber(60)"
   ]
  },
  {
   "cell_type": "code",
   "execution_count": 31,
   "metadata": {},
   "outputs": [
    {
     "name": "stdout",
     "output_type": "stream",
     "text": [
      "120\n"
     ]
    }
   ],
   "source": [
    "# Function to calculate the factorial of a given number\n",
    "# factorial *= i\n",
    "\n",
    "def calFactorialNumber(n):\n",
    "    from math import factorial\n",
    "    return factorial(n)\n",
    "calFactorialNumber(5)\n",
    "\n",
    "def manualCalFactorialNumber(n):\n",
    "    fact=1\n",
    "    for i in range(1,n+1):\n",
    "        fact=fact*i\n",
    "    print(fact)\n",
    "manualCalFactorialNumber(5)\n"
   ]
  },
  {
   "cell_type": "code",
   "execution_count": 127,
   "metadata": {},
   "outputs": [
    {
     "data": {
      "text/plain": [
       "True"
      ]
     },
     "execution_count": 127,
     "metadata": {},
     "output_type": "execute_result"
    }
   ],
   "source": [
    "# Function to check if a given number is Prime\n",
    "# for(i = 2; i <= n/2; ++i) if(n%i == 0) flag = 1; break .\n",
    "def isPrimeNumber(n):\n",
    "    if n <=1:\n",
    "        return False\n",
    "    # Check from 2 to n-1\n",
    "    for i in range(2,n):\n",
    "        if(n%i == 0):\n",
    "            return False\n",
    "    return True\n",
    "    \n",
    "    if isPrimeNumber(11):\n",
    "        print(\"true\")\n",
    "    else:\n",
    "        print(\"false\")\n",
    "isPrimeNumber(11)"
   ]
  },
  {
   "cell_type": "code",
   "execution_count": null,
   "metadata": {},
   "outputs": [],
   "source": [
    "# Function to calculate the average first N Prime numbers"
   ]
  },
  {
   "cell_type": "code",
   "execution_count": 62,
   "metadata": {},
   "outputs": [
    {
     "ename": "KeyboardInterrupt",
     "evalue": "",
     "output_type": "error",
     "traceback": [
      "\u001b[1;31m---------------------------------------------------------------------------\u001b[0m",
      "\u001b[1;31mKeyboardInterrupt\u001b[0m                         Traceback (most recent call last)",
      "\u001b[1;32m<ipython-input-62-c73586f98d73>\u001b[0m in \u001b[0;36m<module>\u001b[1;34m\u001b[0m\n\u001b[0;32m     14\u001b[0m \u001b[1;33m\u001b[0m\u001b[0m\n\u001b[0;32m     15\u001b[0m \u001b[1;33m\u001b[0m\u001b[0m\n\u001b[1;32m---> 16\u001b[1;33m \u001b[0mgenAllPerfectNumbersInRange\u001b[0m\u001b[1;33m(\u001b[0m\u001b[1;36m1\u001b[0m\u001b[1;33m,\u001b[0m\u001b[1;36m10\u001b[0m\u001b[1;33m)\u001b[0m\u001b[1;33m\u001b[0m\u001b[1;33m\u001b[0m\u001b[0m\n\u001b[0m",
      "\u001b[1;32m<ipython-input-62-c73586f98d73>\u001b[0m in \u001b[0;36mgenAllPerfectNumbersInRange\u001b[1;34m(lb, ub)\u001b[0m\n\u001b[0;32m      7\u001b[0m         \u001b[0mcount\u001b[0m\u001b[1;33m=\u001b[0m\u001b[1;36m1\u001b[0m\u001b[1;33m\u001b[0m\u001b[1;33m\u001b[0m\u001b[0m\n\u001b[0;32m      8\u001b[0m         \u001b[1;32mwhile\u001b[0m\u001b[1;33m(\u001b[0m\u001b[0mcount\u001b[0m\u001b[1;33m<\u001b[0m\u001b[0mi\u001b[0m\u001b[1;33m)\u001b[0m\u001b[1;33m:\u001b[0m\u001b[1;33m\u001b[0m\u001b[1;33m\u001b[0m\u001b[0m\n\u001b[1;32m----> 9\u001b[1;33m             \u001b[1;32mif\u001b[0m \u001b[1;33m(\u001b[0m\u001b[0mi\u001b[0m\u001b[1;33m%\u001b[0m\u001b[0mcount\u001b[0m\u001b[1;33m==\u001b[0m\u001b[1;36m0\u001b[0m\u001b[1;33m)\u001b[0m\u001b[1;33m:\u001b[0m\u001b[1;33m\u001b[0m\u001b[1;33m\u001b[0m\u001b[0m\n\u001b[0m\u001b[0;32m     10\u001b[0m                 \u001b[0msums\u001b[0m\u001b[1;33m=\u001b[0m\u001b[0msums\u001b[0m\u001b[1;33m+\u001b[0m\u001b[0mcount\u001b[0m\u001b[1;33m\u001b[0m\u001b[1;33m\u001b[0m\u001b[0m\n\u001b[0;32m     11\u001b[0m                 \u001b[0mcount\u001b[0m\u001b[1;33m=\u001b[0m\u001b[0mcount\u001b[0m\u001b[1;33m+\u001b[0m\u001b[1;36m1\u001b[0m\u001b[1;33m\u001b[0m\u001b[1;33m\u001b[0m\u001b[0m\n",
      "\u001b[1;31mKeyboardInterrupt\u001b[0m: "
     ]
    }
   ],
   "source": [
    "# Function to generate all Perfect numbers in a given range\n",
    "def genAllPerfectNumbersInRange(lb,ub):\n",
    "    sums=0\n",
    "    count=1\n",
    "    for i in range(lb,ub+1):\n",
    "        sums=0\n",
    "        count=1\n",
    "        while(count<i):\n",
    "            if (i%count==0):\n",
    "                sums=sums+count\n",
    "                count=count+1\n",
    "        if sums==i:\n",
    "            print(i)        \n",
    "\n",
    "        \n",
    "genAllPerfectNumbersInRange(1,10)"
   ]
  },
  {
   "cell_type": "markdown",
   "metadata": {},
   "source": [
    "### Advanced Problem Set( Optional ) :\n",
    "    - Function to calculate the average of all factorials in a given range\n",
    "    - Function to generate N odd Armstrong numbers\n",
    "    - Function to generate Multiplication table for a number in a given range\n",
    "        - 10 in the range(100, 102) inclusive\n",
    "        - 10 x 100 = 1000\n",
    "        - 10 x 101 = 1010\n",
    "        - 10 x 102 = 1020\n"
   ]
  },
  {
   "cell_type": "code",
   "execution_count": 112,
   "metadata": {},
   "outputs": [
    {
     "name": "stdout",
     "output_type": "stream",
     "text": [
      "Average of all Factorials :  403791.3\n"
     ]
    }
   ],
   "source": [
    "# Function to calculate the average of all factorials in a given range\n",
    "# factorial *= i\n",
    "def calAvgAllFactorialsInRange(lb,ub):\n",
    "    fact=1\n",
    "    sums=0\n",
    "    count=0\n",
    "    for i in range(lb,ub+1):\n",
    "        #print(i,\"=> \",fact,sums,count)\n",
    "        fact = fact * i        \n",
    "        sums=sums+fact        \n",
    "        count=count+1\n",
    "    print(\"Average of all Factorials : \",sums/count)\n",
    "calAvgAllFactorialsInRange(1,10)"
   ]
  },
  {
   "cell_type": "code",
   "execution_count": 61,
   "metadata": {},
   "outputs": [
    {
     "name": "stdout",
     "output_type": "stream",
     "text": [
      "Odd Armstong Number : 1\n",
      "Odd Armstong Number : 153\n",
      "Odd Armstong Number : 371\n",
      "Odd Armstong Number : 407\n"
     ]
    }
   ],
   "source": [
    "# Function to generate N odd Armstrong numbers\n",
    "'''\n",
    "for(num=1;num<=500;num++){ temp=num; sum = 0;  while(temp!=0){ r=temp%10; temp=temp/10; sum=sum+(r*r*r);} if(sum==num)printf(\"%d \",num);}\n",
    "'''\n",
    "def genNOddArmstrongNumbers(n):\n",
    "    temp=1\n",
    "    sums=0\n",
    "    for i in range(1,n+1):\n",
    "        temp=i\n",
    "        sums=0        \n",
    "        \n",
    "        while(temp!=0):\n",
    "            r=temp%10\n",
    "            temp=temp//10\n",
    "            sums=sums+(r*r*r)\n",
    "        \n",
    "        if sums==i:\n",
    "            if i%2 !=0:\n",
    "                print(\"Odd Armstong Number :\",i)\n",
    "        \n",
    "genNOddArmstrongNumbers(500)\n",
    "\n"
   ]
  },
  {
   "cell_type": "code",
   "execution_count": 69,
   "metadata": {},
   "outputs": [
    {
     "name": "stdout",
     "output_type": "stream",
     "text": [
      "10 x 100 = 1000\n",
      "10 x 101 = 1010\n",
      "10 x 102 = 1020\n"
     ]
    }
   ],
   "source": [
    "# Function to generate Multiplication table for a number in a given range\n",
    "#        - 10 in the range(100, 102) inclusive\n",
    "#        - 10 x 100 = 1000\n",
    "#        - 10 x 101 = 1010\n",
    "#        - 10 x 102 = 1020\n",
    "\n",
    "def genMultisTableNumberRange(num,lb,ub):\n",
    "    for i in range(lb,ub+1): print(num,\"x\",i,\"=\",num*i)\n",
    "genMultisTableNumberRange(10,100,102)"
   ]
  },
  {
   "cell_type": "markdown",
   "metadata": {},
   "source": [
    "### Problems That needs a Try:\n",
    "   - You are given a string and your task is to swap cases. In other words, convert all lowercase letters to uppercase \n",
    "        letters and vice versa. (The String may contain special characters).\n",
    "   - Given an integer, ’n’ , perform the following conditional actions:\n",
    "        - If ‘n’  is odd, print Weird\n",
    "        - If  ‘n’ is even and in the inclusive range of 2 to 5, print Not Weird\n",
    "        - If  ‘n’ is even and in the inclusive range of 6 to 20 , print Weird\n",
    "        - If  ‘n’ is even and greater than 20, print Not Weird\n",
    "   - Given the participants ‘n’ score sheet for your University Sports Day, you are required to find the runner-up \n",
    "        score. You are given scores. Store them in a list and find the score of the runner-up. (there can be multiple \n",
    "        winners - if their scores match). \n"
   ]
  },
  {
   "cell_type": "code",
   "execution_count": 85,
   "metadata": {},
   "outputs": [
    {
     "data": {
      "text/plain": [
       "'yOU ARE GIVEN A STRING AND YOUR TASK IS TO SWAP CASES. & iN OTHER WORDS, - CONVERT ALL LOWERCASE LETTERS TO UPPERCASE LETTERS AND VICE VERSA. (tHE sTRING MAY CONTAIN SPECIAL CHARACTERS).'"
      ]
     },
     "execution_count": 85,
     "metadata": {},
     "output_type": "execute_result"
    }
   ],
   "source": [
    "# You are given a string and your task is to swap cases. In other words, convert all lowercase letters to uppercase \n",
    "# letters and vice versa. (The String may contain special characters).\n",
    "def swappingCases(st):\n",
    "    return st.swapcase()\n",
    "s=\"You are given a string and your task is to swap cases. & In other words, - convert all lowercase letters to uppercase letters and vice versa. (The String may contain special characters).\"\n",
    "swappingCases(s)"
   ]
  },
  {
   "cell_type": "code",
   "execution_count": 113,
   "metadata": {},
   "outputs": [
    {
     "name": "stdout",
     "output_type": "stream",
     "text": [
      "Weird\n"
     ]
    }
   ],
   "source": [
    "# Given an integer, ’n’ , perform the following conditional actions:\n",
    "#    - If ‘n’  is odd, print Weird\n",
    "#    - If  ‘n’ is even and in the inclusive range of 2 to 5, print Not Weird\n",
    "#    - If  ‘n’ is even and in the inclusive range of 6 to 20 , print Weird\n",
    "#    - If  ‘n’ is even and greater than 20, print Not Weird\n",
    "\n",
    "def performConditionalActions(n):\n",
    "    if n%2 == 0:        \n",
    "        if n>=2 and n<=5:\n",
    "            print(\"Not Weird\")\n",
    "        elif n>=6 and n<=20:\n",
    "            print(\"Weird\")\n",
    "        elif n>20:\n",
    "            print(\"Not Weird\")\n",
    "    elif n%2 !=0:\n",
    "        print(\"Weird\")\n",
    "        \n",
    "performConditionalActions(6)"
   ]
  },
  {
   "cell_type": "code",
   "execution_count": null,
   "metadata": {},
   "outputs": [],
   "source": [
    "# - Given the participants ‘n’ score sheet for your University Sports Day, you are required to find the runner-up \n",
    "#        score. You are given scores. Store them in a list and find the score of the runner-up. (there can be multiple \n",
    "#        winners - if their scores match). "
   ]
  }
 ],
 "metadata": {
  "kernelspec": {
   "display_name": "Python 3",
   "language": "python",
   "name": "python3"
  },
  "language_info": {
   "codemirror_mode": {
    "name": "ipython",
    "version": 3
   },
   "file_extension": ".py",
   "mimetype": "text/x-python",
   "name": "python",
   "nbconvert_exporter": "python",
   "pygments_lexer": "ipython3",
   "version": "3.7.3"
  }
 },
 "nbformat": 4,
 "nbformat_minor": 2
}
