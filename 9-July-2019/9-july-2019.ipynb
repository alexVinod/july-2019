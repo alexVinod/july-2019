{
 "cells": [
  {
   "cell_type": "code",
   "execution_count": 43,
   "metadata": {},
   "outputs": [
    {
     "ename": "ModuleNotFoundError",
     "evalue": "No module named 'emoji'",
     "output_type": "error",
     "traceback": [
      "\u001b[1;31m---------------------------------------------------------------------------\u001b[0m",
      "\u001b[1;31mModuleNotFoundError\u001b[0m                       Traceback (most recent call last)",
      "\u001b[1;32m<ipython-input-43-89bceb030384>\u001b[0m in \u001b[0;36m<module>\u001b[1;34m\u001b[0m\n\u001b[1;32m----> 1\u001b[1;33m \u001b[1;32mimport\u001b[0m \u001b[0memoji\u001b[0m\u001b[1;33m\u001b[0m\u001b[1;33m\u001b[0m\u001b[0m\n\u001b[0m\u001b[0;32m      2\u001b[0m \u001b[0mprint\u001b[0m\u001b[1;33m(\u001b[0m\u001b[0memoji\u001b[0m\u001b[1;33m.\u001b[0m\u001b[0memojize\u001b[0m\u001b[1;33m(\u001b[0m\u001b[1;34m'Python is :thumbs_up_sign:'\u001b[0m\u001b[1;33m)\u001b[0m\u001b[1;33m)\u001b[0m\u001b[1;33m\u001b[0m\u001b[1;33m\u001b[0m\u001b[0m\n",
      "\u001b[1;31mModuleNotFoundError\u001b[0m: No module named 'emoji'"
     ]
    }
   ],
   "source": [
    "import emoji\n",
    "print(emoji.emojize('Python is :thumbs_up_sign:'))"
   ]
  },
  {
   "cell_type": "code",
   "execution_count": 47,
   "metadata": {},
   "outputs": [
    {
     "name": "stdout",
     "output_type": "stream",
     "text": [
      "vijay\n",
      "😁 vijay\n"
     ]
    }
   ],
   "source": [
    "name=input()\n",
    "hi='😁'\n",
    "print(hi,name)\n"
   ]
  },
  {
   "cell_type": "code",
   "execution_count": null,
   "metadata": {},
   "outputs": [],
   "source": [
    "sports ={}\n",
    "# Read Scores and sportspersons names\n",
    "for i in range(3):\n",
    "    name = input(\"Enter the SportsPerson Name :\")\n",
    "    score = int(input(\"Score :\"))\n",
    "    sports[name]=score\n",
    "max_score = max(sports.values())"
   ]
  },
  {
   "cell_type": "code",
   "execution_count": 81,
   "metadata": {},
   "outputs": [
    {
     "name": "stdout",
     "output_type": "stream",
     "text": [
      "Harish 26\n",
      "Krishna 51\n",
      "Rama 50\n",
      "Vinod 25\n"
     ]
    }
   ],
   "source": [
    "# Read all the individual scores of the bastsmen and print their rankings based on the scores\n",
    "# Vinod 25\n",
    "# Harish 26\n",
    "# Rama 50\n",
    "# Krishna 51\n",
    "\n",
    "#Ranking  Names\n",
    "#   1     Krishna\n",
    "#   2     Rama\n",
    "#   3     Harish\n",
    "#   4     Vinod\n",
    "\n",
    "d={\"Krishna\":51,\"Harish\":26,\"Rama\":50,\"Vinod\":25}\n",
    "\n",
    "# for k,v in d.items():\n",
    "#     if \n",
    "#     print(k,v)\n",
    "    \n",
    "# for i in d.items():\n",
    "#     index = l.index(i[1])+1\n",
    "#     print(i[0],index)\n",
    "count=1\n",
    "# for i in range(d[max(d,key=d.get)],1,-1):\n",
    "#     if i in d.values():\n",
    "#         print(i,count)\n",
    "#         count=count+1\n",
    "for k,v in sorted(d.items()):\n",
    "    print(k,v)\n",
    "\n",
    "#print(max(d,key=d.get),d[max(d,key=d.get)])\n"
   ]
  },
  {
   "cell_type": "code",
   "execution_count": null,
   "metadata": {},
   "outputs": [],
   "source": [
    "# Find Highest Frequency element in the list\n",
    "# [1,1,1,1,2,3,1,2,3,1,2,2,2,3,3]\n",
    "# 1\n",
    "# Find Second Highest Frequent element in the list\n",
    "#[1,1,1,1,2,3,1,2,3,1,2,2,2,3,3]\n",
    "# 2\n",
    "# Find Kth Highest Frequency element in the list\n",
    "li=[1,1,1,1,2,3,1,2,3,1,2,2,2,3,3]\n",
    "# highFrequency={}\n",
    "# count=1\n",
    "# for i in li:\n",
    "#     if i not in highFrequency:\n",
    "#         highFrequency[i]=count\n",
    "#     else:\n",
    "#         highFrequency[i]+=count\n",
    "# max(highFrequency,key=highFrequency.get)\n",
    "\n",
    "\n",
    "# Find Kth Highest Frequency element in the list\n",
    "def kthFrequency(n):\n",
    "    li=[1,1,1,1,2,3,1,2,3,1,2,2,2,3,3]\n",
    "    return li.count(n)\n",
    "#kthFrequency(1)\n",
    "\n",
    "# Find Highest Frequency element in the list\n",
    "def highestFrequency():\n",
    "    li=[1,1,1,1,2,3,1,2,3,1,2,2,2,3,3]\n",
    "    li1=[]\n",
    "    count=1\n",
    "    for i in li:\n",
    "        print(li.count(i))    \n",
    "highestFrequency()\n",
    "# if i not in li1:\n",
    "#             li.append(i)\n",
    "#             count=count+1"
   ]
  },
  {
   "cell_type": "code",
   "execution_count": 8,
   "metadata": {},
   "outputs": [
    {
     "name": "stdout",
     "output_type": "stream",
     "text": [
      "1\n",
      "2\n"
     ]
    }
   ],
   "source": [
    "# Highest Frequent Element in the list \n",
    "def highestFrequency(l):\n",
    "    d={}\n",
    "    for i in l:\n",
    "        count=l.count(i)\n",
    "        if i not in d:\n",
    "            d[i]=count\n",
    "    return d\n",
    "d=highestFrequency([1,1,1,1,2,3,1,2,3,1,2,2,2,3,3])\n",
    "max_val=max(d.values())\n",
    "max_val\n",
    "for i in d.items():\n",
    "    if i[1] == max_val:\n",
    "        print(i[0])\n",
    "        \n",
    "l=sorted(d.values(),reverse=True)\n",
    "secMax_val = l[1]\n",
    "for i in d.items():\n",
    "    if i[1] == secMax_val:\n",
    "        print(i[0])"
   ]
  }
 ],
 "metadata": {
  "kernelspec": {
   "display_name": "Python 3",
   "language": "python",
   "name": "python3"
  },
  "language_info": {
   "codemirror_mode": {
    "name": "ipython",
    "version": 3
   },
   "file_extension": ".py",
   "mimetype": "text/x-python",
   "name": "python",
   "nbconvert_exporter": "python",
   "pygments_lexer": "ipython3",
   "version": "3.7.3"
  }
 },
 "nbformat": 4,
 "nbformat_minor": 2
}
